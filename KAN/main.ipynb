{
 "cells": [
  {
   "cell_type": "code",
   "execution_count": null,
   "id": "e8b48c30",
   "metadata": {},
   "outputs": [
    {
     "name": "stdout",
     "output_type": "stream",
     "text": [
      "checkpoint directory created: ./model\n",
      "saving model version 0.0\n"
     ]
    }
   ],
   "source": [
    "import numpy as np\n",
    "import torch\n",
    "from kan import KAN\n",
    "\n",
    "# 1. Generar datos de ejemplo\n",
    "def create_dataset(n_samples=1000):\n",
    "    X = np.random.uniform(-1, 1, size=(n_samples, 2))\n",
    "    # Función no lineal de ejemplo: f(x,y) = sin(x) + y^2\n",
    "    y = np.sin(X[:, 0]) + X[:, 1]**2\n",
    "    return X, y.reshape(-1, 1)\n",
    "\n",
    "X, y = create_dataset()\n",
    "\n",
    "# 2. Crear el modelo KAN\n",
    "model = KAN(width=[2, 3, 1], grid=5, k=3)  # 2 inputs, capa oculta con 3 neuronas, 1 output\n",
    "# grid: número de puntos de la cuadrícula para las funciones B-spline\n",
    "# k: orden de las splines\n",
    "\n",
    "# 3. Entrenar el modelo\n",
    "results = model.train(X, y, steps=50, lr=1e-2, batch=100)\n",
    "# steps: número de pasos de entrenamiento\n",
    "# lr: tasa de aprendizaje\n",
    "# batch: tamaño del batch\n",
    "\n",
    "# 4. Evaluar el modelo\n",
    "pred = model.predict(X)\n",
    "mse = ((pred - y)**2).mean()\n",
    "print(f\"MSE: {mse:.4f}\")\n",
    "\n",
    "# 5. Visualizar las funciones aprendidas\n",
    "model.plot()"
   ]
  },
  {
   "cell_type": "code",
   "execution_count": 7,
   "id": "e398e0a4",
   "metadata": {},
   "outputs": [
    {
     "ename": "ModuleNotFoundError",
     "evalue": "No module named 'pykan'",
     "output_type": "error",
     "traceback": [
      "\u001b[31m---------------------------------------------------------------------------\u001b[39m",
      "\u001b[31mModuleNotFoundError\u001b[39m                       Traceback (most recent call last)",
      "\u001b[36mCell\u001b[39m\u001b[36m \u001b[39m\u001b[32mIn[7]\u001b[39m\u001b[32m, line 1\u001b[39m\n\u001b[32m----> \u001b[39m\u001b[32m1\u001b[39m \u001b[38;5;28;01mfrom\u001b[39;00m\u001b[38;5;250m \u001b[39m\u001b[34;01mpykan\u001b[39;00m\u001b[38;5;250m \u001b[39m\u001b[38;5;28;01mimport\u001b[39;00m KAN, create_dataset\n\u001b[32m      3\u001b[39m \u001b[38;5;66;03m# Configuración avanzada\u001b[39;00m\n\u001b[32m      4\u001b[39m \u001b[38;5;28;01mdef\u001b[39;00m\u001b[38;5;250m \u001b[39m\u001b[34madvanced_implementation\u001b[39m():\n\u001b[32m      5\u001b[39m     \u001b[38;5;66;03m# Crear dataset más complejo\u001b[39;00m\n",
      "\u001b[31mModuleNotFoundError\u001b[39m: No module named 'pykan'"
     ]
    }
   ],
   "source": [
    "from pykan import KAN, create_dataset\n",
    "\n",
    "# Configuración avanzada\n",
    "def advanced_implementation():\n",
    "    # Crear dataset más complejo\n",
    "    def f(x):\n",
    "        return torch.exp(torch.sin(torch.pi*x[:,[0]]) + x[:,[1]]**2)\n",
    "    \n",
    "    dataset = create_dataset(f, n_var=2)\n",
    "    \n",
    "    # Configurar modelo con más parámetros\n",
    "    model = KAN(\n",
    "        width=[2, 5, 5, 1],  # Arquitectura más profunda\n",
    "        grid=5,              # Número de puntos de la cuadrícula\n",
    "        k=3,                 # Orden de los B-splines\n",
    "        seed=42,             # Semilla para reproducibilidad\n",
    "        base_fun=torch.sin,  # Función base adicional\n",
    "        bias_trainable=True  # Permitir que los sesgos sean entrenables\n",
    "    )\n",
    "    \n",
    "    # Entrenamiento con más opciones\n",
    "    results = model.train(\n",
    "        dataset['train_input'],\n",
    "        dataset['train_label'],\n",
    "        steps=100,\n",
    "        lr=1e-2,\n",
    "        lr_decay=0.99,\n",
    "        lamb=0.001,\n",
    "        lamb_l1=0.01,\n",
    "        lamb_entropy=1.0,\n",
    "        update_grid=True,\n",
    "        stop_grid_update_step=50\n",
    "    )\n",
    "    \n",
    "    # Evaluación\n",
    "    print(\"Train MSE:\", model.loss(dataset['train_input'], dataset['train_label']).item())\n",
    "    print(\"Test MSE:\", model.loss(dataset['test_input'], dataset['test_label']).item())\n",
    "    \n",
    "    # Visualización\n",
    "    model.plot()\n",
    "    model.plot(beta=100)  # Visualización más suave\n",
    "    \n",
    "    return model\n",
    "\n",
    "# Ejecutar implementación avanzada\n",
    "trained_model = advanced_implementation()"
   ]
  },
  {
   "cell_type": "code",
   "execution_count": null,
   "id": "40d47daa",
   "metadata": {},
   "outputs": [],
   "source": []
  }
 ],
 "metadata": {
  "kernelspec": {
   "display_name": ".venv",
   "language": "python",
   "name": "python3"
  },
  "language_info": {
   "codemirror_mode": {
    "name": "ipython",
    "version": 3
   },
   "file_extension": ".py",
   "mimetype": "text/x-python",
   "name": "python",
   "nbconvert_exporter": "python",
   "pygments_lexer": "ipython3",
   "version": "3.11.2"
  }
 },
 "nbformat": 4,
 "nbformat_minor": 5
}
